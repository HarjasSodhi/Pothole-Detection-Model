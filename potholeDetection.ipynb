{
  "nbformat": 4,
  "nbformat_minor": 0,
  "metadata": {
    "colab": {
      "provenance": []
    },
    "kernelspec": {
      "name": "python3",
      "display_name": "Python 3"
    },
    "language_info": {
      "name": "python"
    }
  },
  "cells": [
    {
      "cell_type": "code",
      "source": [
        "import tensorflow as tf\n",
        "from tensorflow.keras import datasets, layers, models\n",
        "import matplotlib.pyplot as plt\n",
        "import numpy as np\n",
        "from keras.models import Sequential\n",
        "from keras.models import load_model\n",
        "from sklearn.utils import shuffle\n",
        "from keras.utils import np_utils\n",
        "from sklearn.metrics import confusion_matrix , classification_report\n",
        "from keras.layers.convolutional import Convolution2D, Cropping2D, Conv2D\n",
        "from keras.layers import Dense, Dropout, Activation, Flatten, Lambda, ELU,GlobalAveragePooling2D\n",
        "import time, cv2, glob"
      ],
      "metadata": {
        "id": "qCQ3cLUoso7D"
      },
      "execution_count": 72,
      "outputs": []
    },
    {
      "cell_type": "code",
      "source": [
        "def kerasModel4():\n",
        "        model = Sequential()\n",
        "        model.add(Conv2D(16, (8, 8), strides=(4, 4), padding='valid', input_shape=(size,size,1)))\n",
        "        model.add(Activation('relu'))\n",
        "        model.add(Conv2D(32, (5, 5), padding=\"same\"))\n",
        "        model.add(Activation('relu'))\n",
        "        model.add(GlobalAveragePooling2D())\n",
        "        model.add(Dropout(.2))\n",
        "        # model.add(Activation('relu'))\n",
        "        # model.add(Dense(1024))\n",
        "        # model.add(Dropout(.5))\n",
        "        model.add(Dense(512))\n",
        "        model.add(Dropout(.1))\n",
        "        model.add(Activation('relu'))\n",
        "        # model.add(Dense(256))\n",
        "        # model.add(Dropout(.5))\n",
        "        # model.add(Activation('relu'))\n",
        "        model.add(Dense(2))\n",
        "        model.add(Activation('softmax'))\n",
        "        return model\n"
      ],
      "metadata": {
        "id": "Mz3CgdkIsqnP"
      },
      "execution_count": 46,
      "outputs": []
    },
    {
      "cell_type": "code",
      "source": [
        "size=300\n",
        "\n",
        " ## load Training data : pothole\n",
        "potholeTrainImages = glob.glob(\"Dataset/train/pothole/*.jpg\")\n",
        "potholeTrainImages.extend(glob.glob(\"Dataset/train/pothole/*.jpeg\"))\n",
        "potholeTrainImages.extend(glob.glob(\"Dataset/train/pothole/*.png\"))"
      ],
      "metadata": {
        "id": "KfaYmmJCsvti"
      },
      "execution_count": 47,
      "outputs": []
    },
    {
      "cell_type": "code",
      "source": [
        "train1 = [cv2.imread(img,0) for img in potholeTrainImages]\n",
        "for i in range(0,len(train1)):\n",
        "    train1[i] = cv2.resize(train1[i],(size,size))\n",
        "temp1 = np.asarray(train1)\n"
      ],
      "metadata": {
        "id": "j3Ha3FPMtGtp"
      },
      "execution_count": 48,
      "outputs": []
    },
    {
      "cell_type": "code",
      "source": [
        "nonPotholeTrainImages = glob.glob(\"Dataset/train/plain/*.jpg\")\n",
        "# nonPotholeTrainImages.extend(glob.glob(\"C:/Users/anant/Desktop/pothole-and-plain-rode-images/My Dataset/train/Plain/*.jpeg\"))\n",
        "# nonPotholeTrainImages.extend(glob.glob(\"C:/Users/anant/Desktop/pothole-and-plain-rode-images/My Dataset/train/Plain/*.png\"))\n",
        "train2 = [cv2.imread(img,0) for img in nonPotholeTrainImages]\n",
        "for i in range(0,len(train2)):\n",
        "    train2[i] = cv2.resize(train2[i],(size,size))\n",
        "temp2 = np.asarray(train2)"
      ],
      "metadata": {
        "id": "SOcs6SCstJcM"
      },
      "execution_count": 49,
      "outputs": []
    },
    {
      "cell_type": "code",
      "source": [
        "nonPotholeTestImages = glob.glob(\"Dataset/test/plain/*.jpg\")\n",
        "# nonPotholeTrainImages.extend(glob.glob(\"C:/Users/anant/Desktop/pothole-and-plain-rode-images/My Dataset/train/Plain/*.jpeg\"))\n",
        "# nonPotholeTrainImages.extend(glob.glob(\"C:/Users/anant/Desktop/pothole-and-plain-rode-images/My Dataset/train/Plain/*.png\"))\n",
        "test2 = [cv2.imread(img,0) for img in nonPotholeTestImages]\n",
        "for i in range(0,len(test2)):\n",
        "    test2[i] = cv2.resize(test2[i],(size,size))\n",
        "temp4 = np.asarray(test2)\n"
      ],
      "metadata": {
        "id": "RB6i65kxtPAj"
      },
      "execution_count": 50,
      "outputs": []
    },
    {
      "cell_type": "code",
      "source": [
        "potholeTestImages = glob.glob(\"Dataset/test/pothole/*.jpg\")\n",
        "# nonPotholeTrainImages.extend(glob.glob(\"C:/Users/anant/Desktop/pothole-and-plain-rode-images/My Dataset/train/Plain/*.jpeg\"))\n",
        "# nonPotholeTrainImages.extend(glob.glob(\"C:/Users/anant/Desktop/pothole-and-plain-rode-images/My Dataset/train/Plain/*.png\"))\n",
        "test1 = [cv2.imread(img,0) for img in potholeTestImages]\n",
        "for i in range(0,len(test1)):\n",
        "    test1[i] = cv2.resize(test1[i],(size,size))\n",
        "temp3 = np.asarray(test1)\n"
      ],
      "metadata": {
        "id": "1ozBbUEhtWew"
      },
      "execution_count": 51,
      "outputs": []
    },
    {
      "cell_type": "code",
      "source": [
        "X_train = []\n",
        "X_train.extend(temp1)\n",
        "X_train.extend(temp2)\n",
        "X_train = np.asarray(X_train)\n",
        "\n",
        "X_test = []\n",
        "X_test.extend(temp3)\n",
        "X_test.extend(temp4)\n",
        "X_test = np.asarray(X_test)"
      ],
      "metadata": {
        "id": "SeDPXkqLtgLQ"
      },
      "execution_count": 52,
      "outputs": []
    },
    {
      "cell_type": "code",
      "source": [
        "y_train1 = np.ones([temp1.shape[0]],dtype = int)\n",
        "y_train2 = np.zeros([temp2.shape[0]],dtype = int)\n",
        "y_test1 = np.ones([temp3.shape[0]],dtype = int)\n",
        "y_test2 = np.zeros([temp4.shape[0]],dtype = int)\n"
      ],
      "metadata": {
        "id": "IrvWMPbgtiFh"
      },
      "execution_count": 53,
      "outputs": []
    },
    {
      "cell_type": "code",
      "source": [
        "print(y_train1[0])\n",
        "print(y_train2[0])\n",
        "print(y_test1[0])\n",
        "print(y_test2[0])\n"
      ],
      "metadata": {
        "colab": {
          "base_uri": "https://localhost:8080/"
        },
        "id": "2J7pMsO-tlum",
        "outputId": "3e8de48a-e5b4-4e65-bf03-af6724beaa0e"
      },
      "execution_count": 54,
      "outputs": [
        {
          "output_type": "stream",
          "name": "stdout",
          "text": [
            "1\n",
            "0\n",
            "1\n",
            "0\n"
          ]
        }
      ]
    },
    {
      "cell_type": "code",
      "source": [
        "y_train = []\n",
        "y_train.extend(y_train1)\n",
        "y_train.extend(y_train2)\n",
        "y_train = np.asarray(y_train)\n",
        "\n",
        "y_test = []\n",
        "y_test.extend(y_test1)\n",
        "y_test.extend(y_test2)\n",
        "#y_testt=y_test.copy()\n",
        "y_test = np.asarray(y_test)"
      ],
      "metadata": {
        "id": "Yqnl9IBTtqXS"
      },
      "execution_count": 55,
      "outputs": []
    },
    {
      "cell_type": "code",
      "source": [
        "X_train,y_train = shuffle(X_train,y_train)\n",
        "X_test,y_test = shuffle(X_test,y_test)\n",
        "\n",
        "X_train = X_train.reshape(X_train.shape[0], size, size, 1)\n",
        "X_test = X_test.reshape(X_test.shape[0], size, size, 1)\n",
        "\n",
        "y_train = np_utils.to_categorical(y_train)\n",
        "y_test = np_utils.to_categorical(y_test)"
      ],
      "metadata": {
        "id": "f2HAlU9xtsFl"
      },
      "execution_count": 56,
      "outputs": []
    },
    {
      "cell_type": "code",
      "source": [
        "print(\"train shape X\", X_train.shape)\n",
        "print(\"train shape y\", y_train.shape)\n",
        "\n",
        "inputShape = (size, size, 1)\n",
        "model = kerasModel4()\n",
        "\n",
        "X_train = X_train/255\n",
        "X_test = X_test/255\n",
        "\n",
        "#model.compile('adam', 'categorical_crossentropy', ['accuracy'])\n",
        "#history = model.fit(X_train, y_train, epochs=200,validation_split=0.1)\n",
        "\n",
        "print(\"\")"
      ],
      "metadata": {
        "colab": {
          "base_uri": "https://localhost:8080/"
        },
        "id": "uYn0dxdwt-K0",
        "outputId": "f3020f06-ed40-498e-fe76-a26a7480c2ec"
      },
      "execution_count": 57,
      "outputs": [
        {
          "output_type": "stream",
          "name": "stdout",
          "text": [
            "train shape X (634, 300, 300, 1)\n",
            "train shape y (634, 2)\n",
            "\n"
          ]
        }
      ]
    },
    {
      "cell_type": "code",
      "source": [
        "print(\"Saving model weights and configuration file\")\n",
        "model.save('latest_full_model.h5')\n",
        "print(\"Saved model to disk\")"
      ],
      "metadata": {
        "id": "cuW5Oyn3M1D8",
        "outputId": "bfa55def-afc2-4d89-abec-7b2e5416a454",
        "colab": {
          "base_uri": "https://localhost:8080/"
        }
      },
      "execution_count": 14,
      "outputs": [
        {
          "output_type": "stream",
          "name": "stdout",
          "text": [
            "Saving model weights and configuration file\n",
            "Saved model to disk\n"
          ]
        }
      ]
    },
    {
      "cell_type": "code",
      "source": [
        "model = Sequential()\n",
        "model = load_model('latest_full_model.h5')\n"
      ],
      "metadata": {
        "id": "nC_1AmbFvAcB"
      },
      "execution_count": 58,
      "outputs": []
    },
    {
      "cell_type": "code",
      "source": [
        "metricsTrain =model.evaluate(X_train, y_train)\n",
        "print(\"Training Accuracy: \",metricsTrain[1]*100,\"%\")\n",
        "\n",
        "print(\"\")"
      ],
      "metadata": {
        "colab": {
          "base_uri": "https://localhost:8080/"
        },
        "id": "q-4xpHiHMk-x",
        "outputId": "5f228fe2-6185-4e6a-8c6f-48a192369c1b"
      },
      "execution_count": 59,
      "outputs": [
        {
          "output_type": "stream",
          "name": "stdout",
          "text": [
            "20/20 [==============================] - 5s 236ms/step - loss: 0.3471 - accuracy: 0.8454\n",
            "Training Accuracy:  84.54258441925049 %\n",
            "\n"
          ]
        }
      ]
    },
    {
      "cell_type": "code",
      "source": [
        "metricsTest = model.evaluate(X_test,y_test)\n",
        "print(\"Testing Accuracy: \",metricsTest[1]*100,\"%\")"
      ],
      "metadata": {
        "colab": {
          "base_uri": "https://localhost:8080/"
        },
        "id": "DLG14V1cMrJW",
        "outputId": "2c051049-572f-4025-bd7e-0c4b562de9af"
      },
      "execution_count": 60,
      "outputs": [
        {
          "output_type": "stream",
          "name": "stdout",
          "text": [
            "3/3 [==============================] - 0s 107ms/step - loss: 0.4052 - accuracy: 0.8333\n",
            "Testing Accuracy:  83.33333134651184 %\n"
          ]
        }
      ]
    },
    {
      "cell_type": "code",
      "source": [
        "y_predicted = model.predict(X_test)\n",
        "y_predicted[0]"
      ],
      "metadata": {
        "colab": {
          "base_uri": "https://localhost:8080/"
        },
        "id": "qc_ezIHxD-ry",
        "outputId": "93e2d19a-9b79-4090-aff5-ef0a4df004eb"
      },
      "execution_count": 61,
      "outputs": [
        {
          "output_type": "stream",
          "name": "stdout",
          "text": [
            "3/3 [==============================] - 0s 97ms/step\n"
          ]
        },
        {
          "output_type": "execute_result",
          "data": {
            "text/plain": [
              "array([0.71793026, 0.28206965], dtype=float32)"
            ]
          },
          "metadata": {},
          "execution_count": 61
        }
      ]
    },
    {
      "cell_type": "code",
      "source": [
        "labels=[\"plain\",\"pothole\"]\n",
        "y_predicted_labels = [np.argmax(i) for i in y_predicted]\n",
        "y_testt=[(i[0]+1)%2 for i in y_test]\n",
        "print(y_predicted_labels[:10])\n",
        "print(y_testt[:10])"
      ],
      "metadata": {
        "colab": {
          "base_uri": "https://localhost:8080/"
        },
        "id": "y1trhe9sFMCK",
        "outputId": "90598458-ef49-4d14-8ad5-0cc557fd0ffc"
      },
      "execution_count": 66,
      "outputs": [
        {
          "output_type": "stream",
          "name": "stdout",
          "text": [
            "[0, 1, 0, 1, 1, 1, 0, 1, 0, 0]\n",
            "[0.0, 1.0, 0.0, 1.0, 1.0, 1.0, 0.0, 1.0, 0.0, 0.0]\n"
          ]
        }
      ]
    },
    {
      "cell_type": "code",
      "source": [
        "cm = tf.math.confusion_matrix(labels=y_testt,predictions=y_predicted_labels)\n",
        "cm"
      ],
      "metadata": {
        "colab": {
          "base_uri": "https://localhost:8080/"
        },
        "id": "Zt-SyAVXF1dw",
        "outputId": "fb97bc05-d536-4d06-f52f-807a0add86d8"
      },
      "execution_count": 69,
      "outputs": [
        {
          "output_type": "execute_result",
          "data": {
            "text/plain": [
              "<tf.Tensor: shape=(2, 2), dtype=int32, numpy=\n",
              "array([[30,  9],\n",
              "       [ 4, 35]], dtype=int32)>"
            ]
          },
          "metadata": {},
          "execution_count": 69
        }
      ]
    },
    {
      "cell_type": "code",
      "source": [
        "import seaborn as sn\n",
        "plt.figure(figsize = (10,7))\n",
        "sn.heatmap(cm, annot=True, fmt='d')\n",
        "plt.xlabel('Predicted')\n",
        "plt.ylabel('Truth')"
      ],
      "metadata": {
        "colab": {
          "base_uri": "https://localhost:8080/",
          "height": 463
        },
        "id": "f-xFKPu0PRME",
        "outputId": "ee9e7be8-33ff-4fdc-99f9-df44ec2edd2e"
      },
      "execution_count": 70,
      "outputs": [
        {
          "output_type": "execute_result",
          "data": {
            "text/plain": [
              "Text(69.0, 0.5, 'Truth')"
            ]
          },
          "metadata": {},
          "execution_count": 70
        },
        {
          "output_type": "display_data",
          "data": {
            "text/plain": [
              "<Figure size 720x504 with 2 Axes>"
            ],
            "image/png": "[encoded data removed]"
          },
          "metadata": {
            "needs_background": "light"
          }
        }
      ]
    },
    {
      "cell_type": "code",
      "source": [
        "print(classification_report(y_testt, y_predicted_labels))"
      ],
      "metadata": {
        "colab": {
          "base_uri": "https://localhost:8080/"
        },
        "id": "3ffeM3EBPlkp",
        "outputId": "e875da53-b5c6-4522-bc52-b2225ba81019"
      },
      "execution_count": 73,
      "outputs": [
        {
          "output_type": "stream",
          "name": "stdout",
          "text": [
            "              precision    recall  f1-score   support\n",
            "\n",
            "         0.0       0.88      0.77      0.82        39\n",
            "         1.0       0.80      0.90      0.84        39\n",
            "\n",
            "    accuracy                           0.83        78\n",
            "   macro avg       0.84      0.83      0.83        78\n",
            "weighted avg       0.84      0.83      0.83        78\n",
            "\n"
          ]
        }
      ]
    }
  ]
}